{
 "cells": [
  {
   "cell_type": "code",
   "execution_count": 36,
   "id": "734821c2",
   "metadata": {},
   "outputs": [],
   "source": [
    "import matplotlib.pyplot as plt\n",
    "import numpy as np\n",
    "import os\n",
    "import pandas as pd\n",
    "import seaborn as sns\n",
    "import shutil\n",
    "import torch\n",
    "import torch.nn as nn\n",
    "from collections import defaultdict\n",
    "from PIL import Image\n",
    "from torch.utils.data import Dataset, DataLoader\n",
    "from torchvision import transforms"
   ]
  },
  {
   "cell_type": "code",
   "execution_count": 14,
   "id": "22d04047",
   "metadata": {},
   "outputs": [],
   "source": [
    "os.chdir(r\"C:\\Users\\TOMLU\\Desktop\\Data3888\\individual\")"
   ]
  },
  {
   "cell_type": "code",
   "execution_count": 15,
   "id": "7f24e6d4",
   "metadata": {},
   "outputs": [],
   "source": [
    "cbr = pd.read_csv(\"metadata_code/cbr.csv\")\n",
    "meta = pd.read_excel(\"metadata_code/41467_2023_43458_MOESM4_ESM.xlsx\", sheet_name=1)\n",
    "image_dir = \"images/100\" \n",
    "output_base = \"images/images_4fold\""
   ]
  },
  {
   "cell_type": "code",
   "execution_count": 16,
   "id": "3f448f62",
   "metadata": {},
   "outputs": [
    {
     "name": "stdout",
     "output_type": "stream",
     "text": [
      "   Barcode  UMAP_DIM1  UMAP_DIM2         Cluster  transcript_counts  \\\n",
      "0        1        NaN        NaN          DCIS 2                 28   \n",
      "1        2        NaN        NaN          DCIS 2                 94   \n",
      "2        3  -1.795124   9.981263       Unlabeled                  9   \n",
      "3        4        NaN        NaN  Invasive_Tumor                 11   \n",
      "4        5        NaN        NaN          DCIS 2                 48   \n",
      "\n",
      "   x_centroid  y_centroid  gene_counts  index  \n",
      "0  847.259912  326.191365           15      1  \n",
      "1  826.341995  328.031830           38      2  \n",
      "2  848.766919  331.743187            8      3  \n",
      "3  824.228409  334.252643            9      4  \n",
      "4  841.357538  332.242505           33      5  \n"
     ]
    }
   ],
   "source": [
    "# Merge cell ID and annotation\n",
    "meta[\"index\"] = meta.index + 1  # Ensure cell_id matches index\n",
    "print(meta.head())\n",
    "df = pd.merge(cbr.drop_duplicates(\"index\"), meta[[\"index\", \"Cluster\"]], on=\"index\")\n",
    "\n",
    "# Get image space midpoint and divide into quadrants\n",
    "x_mid = df[\"axis-1\"].median()\n",
    "y_mid = df[\"axis-0\"].median()\n",
    "\n",
    "def get_quadrant(row):\n",
    "    if row[\"axis-1\"] < x_mid and row[\"axis-0\"] < y_mid:\n",
    "        return \"Q1\"  # Top-left\n",
    "    elif row[\"axis-1\"] >= x_mid and row[\"axis-0\"] < y_mid:\n",
    "        return \"Q2\"  # Top-right\n",
    "    elif row[\"axis-1\"] < x_mid and row[\"axis-0\"] >= y_mid:\n",
    "        return \"Q3\"  # Bottom-left\n",
    "    else:\n",
    "        return \"Q4\"  # Bottom-right\n",
    "\n",
    "df[\"quadrant\"] = df.apply(get_quadrant, axis=1)\n",
    "\n",
    "# Copy images to corresponding quadrant subfolders\n",
    "for _, row in df.iterrows():\n",
    "    cluster = row[\"Cluster\"].replace(\"&\", \"and\").replace(\" \", \"_\")\n",
    "    quadrant = row[\"quadrant\"]\n",
    "    src_path = os.path.join(image_dir, cluster, f\"cell_{row['index']}_100.png\")\n",
    "    dst_folder = os.path.join(output_base, quadrant, cluster)\n",
    "    os.makedirs(dst_folder, exist_ok=True)\n",
    "    dst_path = os.path.join(dst_folder, f\"cell_{row['index']}_100.png\")\n",
    "    if os.path.exists(src_path):\n",
    "        shutil.copy(src_path, dst_path)"
   ]
  },
  {
   "cell_type": "code",
   "execution_count": 17,
   "id": "ab11be31",
   "metadata": {},
   "outputs": [
    {
     "name": "stdout",
     "output_type": "stream",
     "text": [
      "Found directory: images/images_4fold\n"
     ]
    }
   ],
   "source": [
    "# Define the images_4fold directory path\n",
    "base_dir = \"images/images_4fold\"\n",
    "\n",
    "# Check if the directory exists\n",
    "if not os.path.exists(base_dir):\n",
    "    print(f\"Error: {base_dir} directory does not exist\")\n",
    "else:\n",
    "    print(f\"Found directory: {base_dir}\")"
   ]
  },
  {
   "cell_type": "code",
   "execution_count": 18,
   "id": "cbaae349",
   "metadata": {},
   "outputs": [],
   "source": [
    "quadrants = ['Q1', 'Q2', 'Q3', 'Q4']\n",
    "\n",
    "cell_group_map = {\n",
    "    # Immune\n",
    "    \"CD4+_T_Cells\": \"Immune\",\n",
    "    \"CD8+_T_Cells\": \"Immune\",\n",
    "    \"B_Cells\": \"Immune\",\n",
    "    \"IRF7+_DCs\": \"Immune\",\n",
    "    \"LAMP3+_DCs\": \"Immune\",\n",
    "    \"Macrophages_1\": \"Immune\",\n",
    "    \"Macrophages_2\": \"Immune\",\n",
    "    \"Mast_Cells\": \"Immune\",\n",
    "\n",
    "    #hybrids\n",
    "    \"Stromal_and_T_Cell_Hybrid\": \"Hybrid\",\n",
    "    \"T_Cell_and_Tumor_Hybrid\": \"Hybrid\",\n",
    "\n",
    "    # Tumor\n",
    "    \"Prolif_Invasive_Tumor\": \"Tumor\",\n",
    "    \"Invasive_Tumor\": \"Tumor\",\n",
    "\n",
    "    #early stage cancer\n",
    "    \"DCIS_1\": \"Early stage cancer\",\n",
    "    \"DCIS_2\": \"Early stage cancer\",\n",
    "\n",
    "    # Connective tissue\n",
    "    \"Stromal\": \"Connective tissue\",\n",
    "    \"Perivascular-Like\": \"Connective tissue\",\n",
    "    \"Myoepi_ACTA2+\": \"Connective tissue\",\n",
    "    \"Myoepi_KRT15+\": \"Connective tissue\",\n",
    "\n",
    "    #endothelial\n",
    "    \"Endothelial\": \"Endothelial\",\n",
    "\n",
    "    # Unlabeled\n",
    "    \"Unlabeled\": \"Unlabeled\"\n",
    "}"
   ]
  },
  {
   "cell_type": "code",
   "execution_count": 19,
   "id": "5b02cded",
   "metadata": {},
   "outputs": [],
   "source": [
    "image_records = []\n",
    "\n",
    "for quad in quadrants:\n",
    "    quad_path = os.path.join(base_dir, quad)\n",
    "    if not os.path.exists(quad_path):\n",
    "        continue\n",
    "\n",
    "    for cluster in os.listdir(quad_path):\n",
    "        cluster_path = os.path.join(quad_path, cluster)\n",
    "        if not os.path.isdir(cluster_path):\n",
    "            continue\n",
    "\n",
    "        group = cell_group_map.get(cluster, \"Unlabeled\")\n",
    "        binary_group = \"tumor\" if group in [\"Tumor\", \"Early stage cancer\"] else \"non-tumor\"\n",
    "\n",
    "        for file in os.listdir(cluster_path):\n",
    "            if file.lower().endswith((\".png\", \".jpg\", \".jpeg\")):\n",
    "                image_records.append({\n",
    "                    \"file_path\": os.path.join(cluster_path, file),\n",
    "                    \"cluster\": cluster,\n",
    "                    \"Quadrant\": quad,\n",
    "                    \"Binary Group\": binary_group\n",
    "                })\n",
    "\n",
    "df_all = pd.DataFrame(image_records)"
   ]
  },
  {
   "cell_type": "code",
   "execution_count": 20,
   "id": "89239327",
   "metadata": {},
   "outputs": [],
   "source": [
    "def stratified_sample(df, group_name, total_samples=1000):\n",
    "    df_group = df[df[\"Binary Group\"] == group_name]\n",
    "    clusters = df_group[\"cluster\"].unique()\n",
    "    samples_per_cluster = total_samples // len(clusters)\n",
    "\n",
    "    sampled = df_group.groupby(\"cluster\").apply(\n",
    "        lambda x: x.sample(n=min(samples_per_cluster, len(x)), random_state=42)\n",
    "    ).reset_index(drop=True)\n",
    "\n",
    "    if len(sampled) < total_samples:\n",
    "        remaining = df_group[~df_group.index.isin(sampled.index)]\n",
    "        to_add = total_samples - len(sampled)\n",
    "        if len(remaining) >= to_add:\n",
    "            sampled = pd.concat([\n",
    "                sampled,\n",
    "                remaining.sample(n=to_add, random_state=42)\n",
    "            ], ignore_index=True)\n",
    "\n",
    "    return sampled\n",
    "\n",
    "tumor_sample = stratified_sample(df_all, \"tumor\", 1000)\n",
    "non_tumor_sample = stratified_sample(df_all, \"non-tumor\", 1000)\n",
    "\n",
    "df_sampled = pd.concat([tumor_sample, non_tumor_sample]).reset_index(drop=True)"
   ]
  },
  {
   "cell_type": "code",
   "execution_count": 33,
   "id": "085734be",
   "metadata": {},
   "outputs": [
    {
     "data": {
      "text/plain": [
       "Quadrant\n",
       "Q3    572\n",
       "Q2    550\n",
       "Q4    440\n",
       "Q1    438\n",
       "Name: count, dtype: int64"
      ]
     },
     "execution_count": 33,
     "metadata": {},
     "output_type": "execute_result"
    }
   ],
   "source": [
    "df_sampled[\"Quadrant\"].value_counts()"
   ]
  },
  {
   "cell_type": "code",
   "execution_count": 21,
   "id": "200c5823",
   "metadata": {},
   "outputs": [
    {
     "name": "stdout",
     "output_type": "stream",
     "text": [
      "Cell counts in Tumor Sample:\n",
      "cluster\n",
      "DCIS_1                   250\n",
      "DCIS_2                   250\n",
      "Invasive_Tumor           250\n",
      "Prolif_Invasive_Tumor    250\n",
      "Name: count, dtype: int64\n",
      "\n",
      "Cell counts in Non-Tumor Sample:\n",
      "cluster\n",
      "Stromal                      65\n",
      "Macrophages_1                64\n",
      "B_Cells                      63\n",
      "CD4+_T_Cells                 63\n",
      "CD8+_T_Cells                 63\n",
      "Endothelial                  62\n",
      "IRF7+_DCs                    62\n",
      "LAMP3+_DCs                   62\n",
      "Macrophages_2                62\n",
      "Mast_Cells                   62\n",
      "Myoepi_ACTA2+                62\n",
      "Myoepi_KRT15+                62\n",
      "Perivascular-Like            62\n",
      "Stromal_and_T_Cell_Hybrid    62\n",
      "T_Cell_and_Tumor_Hybrid      62\n",
      "Unlabeled                    62\n",
      "Name: count, dtype: int64\n"
     ]
    }
   ],
   "source": [
    "# Count number of images per cluster in tumor_sample\n",
    "print(\"Cell counts in Tumor Sample:\")\n",
    "print(tumor_sample[\"cluster\"].value_counts())\n",
    "\n",
    "# Count number of images per cluster in non_tumor_sample\n",
    "print(\"\\nCell counts in Non-Tumor Sample:\")\n",
    "print(non_tumor_sample[\"cluster\"].value_counts())"
   ]
  },
  {
   "cell_type": "code",
   "execution_count": 22,
   "id": "0510a1b3",
   "metadata": {},
   "outputs": [],
   "source": [
    "train_df = df_sampled[df_sampled[\"Quadrant\"].isin([\"Q1\", \"Q2\", \"Q3\"])].copy()\n",
    "test_df  = df_sampled[df_sampled[\"Quadrant\"] == \"Q4\"].copy()"
   ]
  },
  {
   "cell_type": "code",
   "execution_count": 24,
   "id": "2a792995",
   "metadata": {},
   "outputs": [],
   "source": [
    "# Define a custom PyTorch Dataset\n",
    "\n",
    "# Image transform: resize and convert to tensor\n",
    "transform = transforms.Compose([\n",
    "    transforms.Resize((100, 100)),\n",
    "    transforms.ToTensor(),  \n",
    "])\n",
    "\n",
    "# Custom dataset class\n",
    "class CellDataset(Dataset):\n",
    "    def __init__(self, df, transform=None):\n",
    "        self.df = df.reset_index(drop=True)\n",
    "        self.transform = transform\n",
    "\n",
    "    def __len__(self):\n",
    "        return len(self.df)\n",
    "\n",
    "    def __getitem__(self, idx):\n",
    "        img_path = self.df.loc[idx, \"file_path\"]\n",
    "        label = 1 if self.df.loc[idx, \"Binary Group\"] == \"tumor\" else 0\n",
    "\n",
    "        image = Image.open(img_path).convert(\"RGB\")\n",
    "        if self.transform:\n",
    "            image = self.transform(image)\n",
    "        return image, torch.tensor(label, dtype=torch.float32)"
   ]
  },
  {
   "cell_type": "code",
   "execution_count": 25,
   "id": "b7a1fe6b",
   "metadata": {},
   "outputs": [],
   "source": [
    "# Create DataLoaders\n",
    "\n",
    "# Dataset and DataLoader\n",
    "train_dataset = CellDataset(train_df, transform=transform)\n",
    "test_dataset = CellDataset(test_df, transform=transform)\n",
    "\n",
    "train_loader = DataLoader(train_dataset, batch_size=32, shuffle=True)\n",
    "test_loader = DataLoader(test_dataset, batch_size=32, shuffle=False)"
   ]
  },
  {
   "cell_type": "code",
   "execution_count": 26,
   "id": "b17f5af0",
   "metadata": {},
   "outputs": [],
   "source": [
    "# Define a simple CNN model\n",
    "\n",
    "class SimpleCNN(nn.Module):\n",
    "    def __init__(self):\n",
    "        super().__init__()\n",
    "        self.conv_layers = nn.Sequential(\n",
    "            nn.Conv2d(3, 16, kernel_size=3, padding=1),  # → 16x100x100\n",
    "            nn.ReLU(),\n",
    "            nn.MaxPool2d(2),                             # → 16x50x50\n",
    "\n",
    "            nn.Conv2d(16, 32, kernel_size=3, padding=1), # → 32x50x50\n",
    "            nn.ReLU(),\n",
    "            nn.MaxPool2d(2),                             # → 32x25x25\n",
    "        )\n",
    "        self.fc_layers = nn.Sequential(\n",
    "            nn.Flatten(),\n",
    "            nn.Linear(32 * 25 * 25, 64),\n",
    "            nn.ReLU(),\n",
    "            nn.Linear(64, 1),\n",
    "            nn.Sigmoid()\n",
    "        )\n",
    "\n",
    "    def forward(self, x):\n",
    "        x = self.conv_layers(x)\n",
    "        x = self.fc_layers(x)\n",
    "        return x.squeeze(1)\n"
   ]
  },
  {
   "cell_type": "code",
   "execution_count": 27,
   "id": "ca98a3f6",
   "metadata": {},
   "outputs": [
    {
     "name": "stdout",
     "output_type": "stream",
     "text": [
      "Epoch 1, Loss: 34.6989\n",
      "Epoch 2, Loss: 33.9947\n",
      "Epoch 3, Loss: 33.8631\n",
      "Epoch 4, Loss: 33.8195\n",
      "Epoch 5, Loss: 29.2158\n"
     ]
    }
   ],
   "source": [
    "# Train the model\n",
    "\n",
    "device = torch.device(\"cuda\" if torch.cuda.is_available() else \"cpu\")\n",
    "model = SimpleCNN().to(device)\n",
    "\n",
    "criterion = nn.BCELoss()\n",
    "optimizer = torch.optim.Adam(model.parameters(), lr=0.001)\n",
    "\n",
    "# Training loop\n",
    "for epoch in range(5):\n",
    "    model.train()\n",
    "    total_loss = 0\n",
    "    for images, labels in train_loader:\n",
    "        images, labels = images.to(device), labels.to(device)\n",
    "        outputs = model(images)\n",
    "        loss = criterion(outputs, labels)\n",
    "\n",
    "        optimizer.zero_grad()\n",
    "        loss.backward()\n",
    "        optimizer.step()\n",
    "        total_loss += loss.item()\n",
    "    \n",
    "    print(f\"Epoch {epoch+1}, Loss: {total_loss:.4f}\")"
   ]
  },
  {
   "cell_type": "code",
   "execution_count": 30,
   "id": "84e2342a",
   "metadata": {},
   "outputs": [
    {
     "data": {
      "image/png": "[encoded data removed]",
      "text/plain": [
       "<Figure size 640x480 with 2 Axes>"
      ]
     },
     "metadata": {},
     "output_type": "display_data"
    }
   ],
   "source": [
    "# Evaluate the model\n",
    "\n",
    "from sklearn.metrics import confusion_matrix, ConfusionMatrixDisplay\n",
    "import matplotlib.pyplot as plt\n",
    "\n",
    "model.eval() \n",
    "all_preds = []\n",
    "all_labels = []\n",
    "\n",
    "with torch.no_grad():\n",
    "    for images, labels in test_loader:  \n",
    "        images = images.to(device)\n",
    "        labels = labels.to(device)\n",
    "\n",
    "        outputs = model(images)\n",
    "        preds = (outputs > 0.5).int().cpu().numpy()  \n",
    "        labels = labels.cpu().numpy()\n",
    "\n",
    "        all_preds.extend(preds)\n",
    "        all_labels.extend(labels)\n",
    "\n",
    "\n",
    "cm = confusion_matrix(all_labels, all_preds)\n",
    "disp = ConfusionMatrixDisplay(confusion_matrix=cm, display_labels=[\"Non-Tumor\", \"Tumor\"])\n",
    "\n",
    "\n",
    "disp.plot(cmap=\"Blues\", values_format='d')\n",
    "plt.title(\"Confusion Matrix of CNN Classifier\")\n",
    "plt.show()"
   ]
  },
  {
   "cell_type": "code",
   "execution_count": 31,
   "id": "3585b053",
   "metadata": {},
   "outputs": [
    {
     "name": "stdout",
     "output_type": "stream",
     "text": [
      "Accuracy:  0.7591\n",
      "Precision: 0.6694\n",
      "Recall:    0.8677\n",
      "F1 Score:  0.7558\n"
     ]
    }
   ],
   "source": [
    "from sklearn.metrics import accuracy_score, precision_score, recall_score, f1_score\n",
    "\n",
    "# Convert the predictions and true labels to NumPy arrays\n",
    "y_pred = np.array(all_preds)\n",
    "y_true = np.array(all_labels)\n",
    "\n",
    "# Calculate common evaluation metrics\n",
    "acc = accuracy_score(y_true, y_pred)\n",
    "prec = precision_score(y_true, y_pred)\n",
    "rec = recall_score(y_true, y_pred)\n",
    "f1 = f1_score(y_true, y_pred)\n",
    "\n",
    "print(f\"Accuracy:  {acc:.4f}\")\n",
    "print(f\"Precision: {prec:.4f}\")\n",
    "print(f\"Recall:    {rec:.4f}\")\n",
    "print(f\"F1 Score:  {f1:.4f}\")"
   ]
  },
  {
   "cell_type": "code",
   "execution_count": null,
   "id": "715c9788",
   "metadata": {},
   "outputs": [],
   "source": [
    "# The CNN model achieved an accuracy of 75.91%, indicating overall solid performance. It reached a recall of 86.77%, showing strong ability to detect tumor cases. However, the precision was 68.94%, suggesting some false positives. The F1 score of 75.58% reflects a balanced trade-off between precision and recall."
   ]
  }
 ],
 "metadata": {
  "kernelspec": {
   "display_name": "Python 3 (ipykernel)",
   "language": "python",
   "name": "python3"
  },
  "language_info": {
   "codemirror_mode": {
    "name": "ipython",
    "version": 3
   },
   "file_extension": ".py",
   "mimetype": "text/x-python",
   "name": "python",
   "nbconvert_exporter": "python",
   "pygments_lexer": "ipython3",
   "version": "3.11.5"
  }
 },
 "nbformat": 4,
 "nbformat_minor": 5
}
